{
 "cells": [
  {
   "cell_type": "markdown",
   "metadata": {},
   "source": [
    "# Problem Description"
   ]
  },
  {
   "cell_type": "markdown",
   "metadata": {},
   "source": [
    "Given a list of `intervals`, remove all intervals that are covered by another interval in the list.\n",
    "\n",
    "Interval `[a,b)` is covered by interval `[c,d)` if and only if `c <= a` and `b <= d`.\n",
    "\n",
    "After doing so, return the number of remaining intervals."
   ]
  },
  {
   "cell_type": "markdown",
   "metadata": {},
   "source": [
    "# Solutions and Improvements"
   ]
  },
  {
   "cell_type": "code",
   "execution_count": 47,
   "metadata": {
    "ExecuteTime": {
     "end_time": "2020-10-15T13:02:56.779377Z",
     "start_time": "2020-10-15T13:02:56.773297Z"
    }
   },
   "outputs": [],
   "source": [
    "# Solution 1\n",
    "\n",
    "from operator import itemgetter\n",
    "from typing import List\n",
    "\n",
    "\n",
    "class Solution:\n",
    "    def removeCoveredIntervals(self, intervals: List[List[int]]) -> int:\n",
    "        num_removed = 0\n",
    "        num_intervals = len(intervals)\n",
    "        covered_pos = []\n",
    "        intervals = sorted(sorted(intervals, key=itemgetter(1), reverse=True), key=itemgetter(0))\n",
    "        for i in range(num_intervals):\n",
    "            for j in range(i+1, num_intervals):\n",
    "                if intervals[i][1] >= intervals[j][1] and j not in covered_pos:\n",
    "                    num_removed += 1\n",
    "                    covered_pos.append(j)\n",
    "        return num_intervals - num_removed \n",
    "        "
   ]
  },
  {
   "cell_type": "code",
   "execution_count": 73,
   "metadata": {
    "ExecuteTime": {
     "end_time": "2020-10-15T13:10:55.023375Z",
     "start_time": "2020-10-15T13:10:55.017813Z"
    }
   },
   "outputs": [],
   "source": [
    "# Solution 2\n",
    "\n",
    "from typing import List\n",
    "\n",
    "\n",
    "class Solution:\n",
    "    def removeCoveredIntervals(self, intervals: List[List[int]]) -> int:\n",
    "        num_intervals = len(intervals)\n",
    "        interval_mask = [True] * num_intervals\n",
    "        for i in range(num_intervals):\n",
    "            for j in range(num_intervals):\n",
    "                if (interval_mask[j] and \n",
    "                    not i == j and \n",
    "                    intervals[i][1] >= intervals[j][1] and \n",
    "                    intervals[i][0] <= intervals[j][0]):\n",
    "                    \n",
    "#                     print(intervals[i], intervals[j])\n",
    "                    \n",
    "                    interval_mask[j] = False\n",
    "\n",
    "        return sum(interval_mask)\n",
    "        "
   ]
  },
  {
   "cell_type": "code",
   "execution_count": 84,
   "metadata": {
    "ExecuteTime": {
     "end_time": "2020-10-15T13:18:41.359963Z",
     "start_time": "2020-10-15T13:18:41.354896Z"
    }
   },
   "outputs": [],
   "source": [
    "# Solution 3\n",
    "\n",
    "from operator import itemgetter\n",
    "from typing import List\n",
    "\n",
    "\n",
    "class Solution:\n",
    "    def removeCoveredIntervals(self, intervals: List[List[int]]) -> int:\n",
    "        intervals = sorted(intervals, key=lambda _x: (_x[0], -_x[1]))\n",
    "        prev_end = 0\n",
    "        count = 0\n",
    "        \n",
    "        for _, end in intervals:\n",
    "            if prev_end < end:\n",
    "                count += 1\n",
    "                prev_end = end\n",
    "\n",
    "        return count\n",
    "        "
   ]
  },
  {
   "cell_type": "markdown",
   "metadata": {},
   "source": [
    "# Test Cases"
   ]
  },
  {
   "cell_type": "code",
   "execution_count": 85,
   "metadata": {
    "ExecuteTime": {
     "end_time": "2020-10-15T13:18:42.593239Z",
     "start_time": "2020-10-15T13:18:42.589966Z"
    }
   },
   "outputs": [],
   "source": [
    "solution = Solution()\n",
    "intervals = [[1,4],[3,6],[2,8]]\n",
    "assert solution.removeCoveredIntervals(intervals) == 2"
   ]
  },
  {
   "cell_type": "code",
   "execution_count": 86,
   "metadata": {
    "ExecuteTime": {
     "end_time": "2020-10-15T13:19:36.920000Z",
     "start_time": "2020-10-15T13:19:36.916863Z"
    }
   },
   "outputs": [],
   "source": [
    "solution = Solution()\n",
    "intervals = [[1,4],[2,3]]\n",
    "assert solution.removeCoveredIntervals(intervals) == 1"
   ]
  },
  {
   "cell_type": "code",
   "execution_count": 87,
   "metadata": {
    "ExecuteTime": {
     "end_time": "2020-10-15T13:19:37.347861Z",
     "start_time": "2020-10-15T13:19:37.344649Z"
    }
   },
   "outputs": [],
   "source": [
    "solution = Solution()\n",
    "intervals = [[0,10],[5,12]]\n",
    "assert solution.removeCoveredIntervals(intervals) == 2"
   ]
  },
  {
   "cell_type": "code",
   "execution_count": 88,
   "metadata": {
    "ExecuteTime": {
     "end_time": "2020-10-15T13:19:37.643753Z",
     "start_time": "2020-10-15T13:19:37.640390Z"
    }
   },
   "outputs": [],
   "source": [
    "solution = Solution()\n",
    "intervals = [[3,10],[4,10],[5,11]]\n",
    "assert solution.removeCoveredIntervals(intervals) == 2"
   ]
  },
  {
   "cell_type": "code",
   "execution_count": 89,
   "metadata": {
    "ExecuteTime": {
     "end_time": "2020-10-15T13:19:37.991467Z",
     "start_time": "2020-10-15T13:19:37.988258Z"
    }
   },
   "outputs": [],
   "source": [
    "solution = Solution()\n",
    "intervals = [[1,2],[1,4],[3,4]]\n",
    "assert solution.removeCoveredIntervals(intervals) == 1"
   ]
  },
  {
   "cell_type": "code",
   "execution_count": null,
   "metadata": {},
   "outputs": [],
   "source": []
  }
 ],
 "metadata": {
  "kernelspec": {
   "display_name": "Python 3",
   "language": "python",
   "name": "python3"
  },
  "language_info": {
   "codemirror_mode": {
    "name": "ipython",
    "version": 3
   },
   "file_extension": ".py",
   "mimetype": "text/x-python",
   "name": "python",
   "nbconvert_exporter": "python",
   "pygments_lexer": "ipython3",
   "version": "3.8.5"
  },
  "varInspector": {
   "cols": {
    "lenName": 16,
    "lenType": 16,
    "lenVar": 40
   },
   "kernels_config": {
    "python": {
     "delete_cmd_postfix": "",
     "delete_cmd_prefix": "del ",
     "library": "var_list.py",
     "varRefreshCmd": "print(var_dic_list())"
    },
    "r": {
     "delete_cmd_postfix": ") ",
     "delete_cmd_prefix": "rm(",
     "library": "var_list.r",
     "varRefreshCmd": "cat(var_dic_list()) "
    }
   },
   "types_to_exclude": [
    "module",
    "function",
    "builtin_function_or_method",
    "instance",
    "_Feature"
   ],
   "window_display": false
  }
 },
 "nbformat": 4,
 "nbformat_minor": 4
}
