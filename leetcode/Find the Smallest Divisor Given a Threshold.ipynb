{
 "cells": [
  {
   "cell_type": "markdown",
   "metadata": {},
   "source": [
    "# Problem Description"
   ]
  },
  {
   "cell_type": "markdown",
   "metadata": {},
   "source": [
    "Given an array of integers `nums` and an integer `threshold`, we will choose a positive integer divisor and divide all the array by it and sum the result of the division. Find the smallest divisor such that the result mentioned above is less than or equal to `threshold`.\n",
    "\n",
    "Each result of division is rounded to the nearest integer greater than or equal to that element. (For example: 7/3 = 3 and 10/2 = 5).\n",
    "\n",
    "It is guaranteed that there will be an answer."
   ]
  },
  {
   "cell_type": "markdown",
   "metadata": {},
   "source": [
    "# Solutions and Improvements"
   ]
  },
  {
   "cell_type": "code",
   "execution_count": 1,
   "metadata": {
    "ExecuteTime": {
     "end_time": "2020-11-07T04:53:16.291677Z",
     "start_time": "2020-11-07T04:53:16.287026Z"
    }
   },
   "outputs": [],
   "source": [
    "# Solution 1\n",
    "\n",
    "import bisect\n",
    "import math\n",
    "from typing import List\n",
    "\n",
    "\n",
    "class Solution:\n",
    "    def smallestDivisor(self, nums: List[int], threshold: int) -> int:\n",
    "        divisor_lst = list(range(1, max(nums)+1))\n",
    "        divisor_lst.reverse()\n",
    "        sum_lst = [sum([math.ceil(_n/_d) for _n in nums]) for _d in divisor_lst]\n",
    "        divisor_idx = bisect.bisect_right(sum_lst, threshold) - 1\n",
    "        \n",
    "        return divisor_lst[divisor_idx]\n",
    "        \n",
    "        "
   ]
  },
  {
   "cell_type": "code",
   "execution_count": 7,
   "metadata": {
    "ExecuteTime": {
     "end_time": "2020-11-07T05:12:32.479517Z",
     "start_time": "2020-11-07T05:12:32.473377Z"
    }
   },
   "outputs": [],
   "source": [
    "# Solution 2\n",
    "\n",
    "import math\n",
    "from typing import List\n",
    "\n",
    "\n",
    "class Solution:\n",
    "    def smallestDivisor(self, nums: List[int], threshold: int) -> int:\n",
    "        compute_sum = lambda x : sum([math.ceil(_n / x) for _n in nums])\n",
    "        \n",
    "        left, right = 1, 2\n",
    "        while compute_sum(right) > threshold:\n",
    "            left = right\n",
    "            right <<= 1    # multiply by 2\n",
    "        \n",
    "        while left <= right:\n",
    "            pivot = (right + left) >> 1    # (right+left) // 2\n",
    "            num = compute_sum(pivot)\n",
    "\n",
    "            if num > threshold:    # left bound moves right, pivot moves right\n",
    "                left = pivot + 1\n",
    "            else:\n",
    "                right = pivot - 1\n",
    "                \n",
    "        return left\n",
    "        "
   ]
  },
  {
   "cell_type": "code",
   "execution_count": null,
   "metadata": {},
   "outputs": [],
   "source": [
    "# Solution 3, fastest\n",
    "\n",
    "import math\n",
    "from typing import List\n",
    "\n",
    "\n",
    "class Solution:\n",
    "    def smallestDivisor(self, nums: List[int], threshold: int) -> int:\n",
    "        compute_sum = lambda x : sum([math.ceil(_n / x) for _n in nums])\n",
    "        \n",
    "        # binary search\n",
    "        left, right = 1, nums[-1]\n",
    "        while left <= right:\n",
    "            pivot = (right + left) >> 1\n",
    "            num = compute_sum(pivot)\n",
    "\n",
    "            if num > threshold:\n",
    "                left = pivot + 1\n",
    "            else:\n",
    "                right = pivot - 1\n",
    "        \n",
    "        return left"
   ]
  },
  {
   "cell_type": "markdown",
   "metadata": {},
   "source": [
    "# Test Cases"
   ]
  },
  {
   "cell_type": "code",
   "execution_count": 8,
   "metadata": {
    "ExecuteTime": {
     "end_time": "2020-11-07T05:12:34.018243Z",
     "start_time": "2020-11-07T05:12:34.015227Z"
    }
   },
   "outputs": [],
   "source": [
    "nums = [1, 2, 5, 9]\n",
    "threshold = 6\n",
    "solution = Solution()\n",
    "assert solution.smallestDivisor(nums, threshold) == 5"
   ]
  },
  {
   "cell_type": "code",
   "execution_count": 9,
   "metadata": {
    "ExecuteTime": {
     "end_time": "2020-11-07T05:12:34.303716Z",
     "start_time": "2020-11-07T05:12:34.300590Z"
    }
   },
   "outputs": [],
   "source": [
    "nums = [2, 3, 5, 7, 11]\n",
    "threshold = 11\n",
    "solution = Solution()\n",
    "assert solution.smallestDivisor(nums, threshold) == 3"
   ]
  },
  {
   "cell_type": "code",
   "execution_count": 10,
   "metadata": {
    "ExecuteTime": {
     "end_time": "2020-11-07T05:12:34.670520Z",
     "start_time": "2020-11-07T05:12:34.667565Z"
    }
   },
   "outputs": [],
   "source": [
    "nums = [19]\n",
    "threshold = 5\n",
    "solution = Solution()\n",
    "assert solution.smallestDivisor(nums, threshold) == 4"
   ]
  },
  {
   "cell_type": "code",
   "execution_count": 11,
   "metadata": {
    "ExecuteTime": {
     "end_time": "2020-11-07T05:12:36.549089Z",
     "start_time": "2020-11-07T05:12:36.539390Z"
    }
   },
   "outputs": [
    {
     "data": {
      "text/plain": [
       "11134"
      ]
     },
     "execution_count": 11,
     "metadata": {},
     "output_type": "execute_result"
    }
   ],
   "source": [
    "nums = [69322,47442,50162,55610,43878,46692,10512,63774,84054,21628,15996,32509,89682,77152,48237,26659,91418,28443,10115,69523,52914,47423,15436,7541,78560,92488,35485,54266,59067,22267,11768,43100,1422,8549,64918,4935,47889,8785,48473,83029,37942,79823,41317,1409,95437,78045,7263,49473,62736,23893,32547,40616,55107,74273,57453,21428,7524,91565,40747,48491,37520,96634,41092,74652,36313,37360,3183,56984,12622,38041,78168,77230,44808,36351,99253,49631,21451,94536,77585,11314,83410,53376,57949,35312,42144,74189,72744,10947,31720,22297,92776,45226,89239,25422,77669,92561,26106,46258,75877,90306]\n",
    "threshold = 490\n",
    "solution.smallestDivisor(nums, threshold)"
   ]
  },
  {
   "cell_type": "code",
   "execution_count": null,
   "metadata": {},
   "outputs": [],
   "source": []
  }
 ],
 "metadata": {
  "kernelspec": {
   "display_name": "Python 3",
   "language": "python",
   "name": "python3"
  },
  "language_info": {
   "codemirror_mode": {
    "name": "ipython",
    "version": 3
   },
   "file_extension": ".py",
   "mimetype": "text/x-python",
   "name": "python",
   "nbconvert_exporter": "python",
   "pygments_lexer": "ipython3",
   "version": "3.8.5"
  },
  "varInspector": {
   "cols": {
    "lenName": 16,
    "lenType": 16,
    "lenVar": 40
   },
   "kernels_config": {
    "python": {
     "delete_cmd_postfix": "",
     "delete_cmd_prefix": "del ",
     "library": "var_list.py",
     "varRefreshCmd": "print(var_dic_list())"
    },
    "r": {
     "delete_cmd_postfix": ") ",
     "delete_cmd_prefix": "rm(",
     "library": "var_list.r",
     "varRefreshCmd": "cat(var_dic_list()) "
    }
   },
   "types_to_exclude": [
    "module",
    "function",
    "builtin_function_or_method",
    "instance",
    "_Feature"
   ],
   "window_display": false
  }
 },
 "nbformat": 4,
 "nbformat_minor": 4
}
