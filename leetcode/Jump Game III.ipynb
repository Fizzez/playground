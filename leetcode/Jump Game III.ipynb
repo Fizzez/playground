{
 "cells": [
  {
   "cell_type": "markdown",
   "metadata": {},
   "source": [
    "# Problem Description"
   ]
  },
  {
   "cell_type": "markdown",
   "metadata": {},
   "source": [
    "Given an array of non-negative integers `arr`, you are initially positioned at `start` index of the array. When you are at index `i`, you can jump to `i + arr[i]` or `i - arr[i]`, check if you can reach to any index with value 0.\n",
    "\n",
    "Notice that you can not jump outside of the array at any time."
   ]
  },
  {
   "cell_type": "markdown",
   "metadata": {},
   "source": [
    "# Solutions and Improvements"
   ]
  },
  {
   "cell_type": "code",
   "execution_count": 1,
   "metadata": {
    "ExecuteTime": {
     "end_time": "2020-11-30T09:27:19.383998Z",
     "start_time": "2020-11-30T09:27:19.378418Z"
    }
   },
   "outputs": [],
   "source": [
    "# Solution 1, bfs\n",
    "\n",
    "from collections import deque\n",
    "from typing import List\n",
    "\n",
    "class Solution:\n",
    "    def canReach(self, arr: List[int], start: int) -> bool:\n",
    "        if arr[start] == 0:\n",
    "            return True\n",
    "        \n",
    "        n = len(arr)\n",
    "        used = {start}\n",
    "        q = deque([start])\n",
    "        \n",
    "        while len(q) > 0:\n",
    "            u = q.popleft()\n",
    "            for v in (u+arr[u], u-arr[u]):\n",
    "                if 0 <= v < n and v not in used:\n",
    "                    if arr[v] == 0:\n",
    "                        return True\n",
    "                    q.append(v)\n",
    "                    used.add(v)\n",
    "        \n",
    "        return False"
   ]
  },
  {
   "cell_type": "code",
   "execution_count": 6,
   "metadata": {
    "ExecuteTime": {
     "end_time": "2020-11-30T09:27:22.535144Z",
     "start_time": "2020-11-30T09:27:22.529019Z"
    }
   },
   "outputs": [],
   "source": [
    "# Solution 2, dfs\n",
    "\n",
    "from typing import List\n",
    "\n",
    "class Solution:\n",
    "    def canReach(self, arr: List[int], start: int) -> bool:\n",
    "        n = len(arr)\n",
    "        \n",
    "        def dfs(arr, start, step):\n",
    "            if start < 0 or start >= n:\n",
    "                return False\n",
    "            if step == n:\n",
    "                return False\n",
    "            if arr[start] == 0:\n",
    "                return True\n",
    "            ret = (dfs(arr, start - arr[start], step + 1) or \n",
    "                   dfs(arr, start + arr[start], step + 1))\n",
    "            return ret\n",
    "\n",
    "        return dfs(arr, start, 0)"
   ]
  },
  {
   "cell_type": "markdown",
   "metadata": {},
   "source": [
    "# Test Cases"
   ]
  },
  {
   "cell_type": "code",
   "execution_count": 7,
   "metadata": {
    "ExecuteTime": {
     "end_time": "2020-11-30T09:27:23.640502Z",
     "start_time": "2020-11-30T09:27:23.637429Z"
    }
   },
   "outputs": [],
   "source": [
    "arr = [4, 2, 3, 0, 1, 2]\n",
    "start = 5\n",
    "\n",
    "solution = Solution()\n",
    "assert solution.canReach(arr, start)"
   ]
  },
  {
   "cell_type": "code",
   "execution_count": 8,
   "metadata": {
    "ExecuteTime": {
     "end_time": "2020-11-30T09:27:23.821431Z",
     "start_time": "2020-11-30T09:27:23.818077Z"
    }
   },
   "outputs": [],
   "source": [
    "arr = [4, 2, 3, 0, 1, 2]\n",
    "start = 0\n",
    "\n",
    "solution = Solution()\n",
    "assert solution.canReach(arr, start)"
   ]
  },
  {
   "cell_type": "code",
   "execution_count": 9,
   "metadata": {
    "ExecuteTime": {
     "end_time": "2020-11-30T09:27:23.953784Z",
     "start_time": "2020-11-30T09:27:23.950347Z"
    }
   },
   "outputs": [],
   "source": [
    "arr = [3, 0, 2, 1, 2]\n",
    "start = 2\n",
    "\n",
    "solution = Solution()\n",
    "assert not solution.canReach(arr, start)"
   ]
  },
  {
   "cell_type": "code",
   "execution_count": null,
   "metadata": {},
   "outputs": [],
   "source": []
  }
 ],
 "metadata": {
  "kernelspec": {
   "display_name": "Python 3",
   "language": "python",
   "name": "python3"
  },
  "language_info": {
   "codemirror_mode": {
    "name": "ipython",
    "version": 3
   },
   "file_extension": ".py",
   "mimetype": "text/x-python",
   "name": "python",
   "nbconvert_exporter": "python",
   "pygments_lexer": "ipython3",
   "version": "3.8.5"
  },
  "varInspector": {
   "cols": {
    "lenName": 16,
    "lenType": 16,
    "lenVar": 40
   },
   "kernels_config": {
    "python": {
     "delete_cmd_postfix": "",
     "delete_cmd_prefix": "del ",
     "library": "var_list.py",
     "varRefreshCmd": "print(var_dic_list())"
    },
    "r": {
     "delete_cmd_postfix": ") ",
     "delete_cmd_prefix": "rm(",
     "library": "var_list.r",
     "varRefreshCmd": "cat(var_dic_list()) "
    }
   },
   "types_to_exclude": [
    "module",
    "function",
    "builtin_function_or_method",
    "instance",
    "_Feature"
   ],
   "window_display": false
  }
 },
 "nbformat": 4,
 "nbformat_minor": 4
}
