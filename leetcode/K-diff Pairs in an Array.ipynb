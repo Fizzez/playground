{
 "cells": [
  {
   "cell_type": "markdown",
   "metadata": {},
   "source": [
    "# Problem Description"
   ]
  },
  {
   "cell_type": "markdown",
   "metadata": {},
   "source": [
    "Given an array of integers `nums` and an integer `k`, return the number of unique k-diff pairs in the array.\n",
    "\n",
    "A k-diff pair is an integer pair `(nums[i], nums[j])`, where the following are true:\n",
    "\n",
    "- `0 <= i, j < nums.length`\n",
    "- `i != j`\n",
    "- `a <= b`\n",
    "- `b - a == k`"
   ]
  },
  {
   "cell_type": "markdown",
   "metadata": {},
   "source": [
    "# Solutions and Improvements "
   ]
  },
  {
   "cell_type": "code",
   "execution_count": 1,
   "metadata": {
    "ExecuteTime": {
     "end_time": "2020-10-03T09:07:41.388645Z",
     "start_time": "2020-10-03T09:07:41.278576Z"
    }
   },
   "outputs": [],
   "source": [
    "# Solution 1\n",
    "\n",
    "from typing import List\n",
    "import numpy as np\n",
    "\n",
    "\n",
    "class Solution:\n",
    "    def findPairs(self, nums: List[int], k: int) -> int:\n",
    "        pair_count = 0\n",
    "        \n",
    "        if k == 0:\n",
    "            from collections import Counter\n",
    "            num_counter = Counter(nums)\n",
    "            return sum(np.array(list(num_counter.values())) > 1)\n",
    "        else:\n",
    "            nums = np.unique(nums)\n",
    "            return sum([_n - k in nums for _n in nums])\n",
    "            \n",
    "            "
   ]
  },
  {
   "cell_type": "code",
   "execution_count": 2,
   "metadata": {
    "ExecuteTime": {
     "end_time": "2020-10-03T09:07:41.395047Z",
     "start_time": "2020-10-03T09:07:41.390619Z"
    }
   },
   "outputs": [],
   "source": [
    "# Solution 2\n",
    "\n",
    "from collections import Counter\n",
    "from typing import List\n",
    "\n",
    "\n",
    "class Solution:\n",
    "    def findPairs(self, nums: List[int], k: int) -> int:\n",
    "        nums = Counter(nums)\n",
    "        if not k:\n",
    "            return sum([nums[_n] > 1 for _n in nums])\n",
    "        else:\n",
    "            return sum([_n-k in nums for _n in nums])\n",
    "            \n",
    "\n",
    "            "
   ]
  },
  {
   "cell_type": "markdown",
   "metadata": {},
   "source": [
    "# Test Cases"
   ]
  },
  {
   "cell_type": "code",
   "execution_count": 3,
   "metadata": {
    "ExecuteTime": {
     "end_time": "2020-10-03T09:07:41.401596Z",
     "start_time": "2020-10-03T09:07:41.398432Z"
    }
   },
   "outputs": [],
   "source": [
    "solution = Solution()\n",
    "assert solution.findPairs([3, 1, 4, 1, 5], k=2) == 2"
   ]
  },
  {
   "cell_type": "code",
   "execution_count": 4,
   "metadata": {
    "ExecuteTime": {
     "end_time": "2020-10-03T09:07:41.408545Z",
     "start_time": "2020-10-03T09:07:41.404618Z"
    }
   },
   "outputs": [],
   "source": [
    "assert solution.findPairs([1, 2, 3, 4, 5], k=1) == 4"
   ]
  },
  {
   "cell_type": "code",
   "execution_count": 5,
   "metadata": {
    "ExecuteTime": {
     "end_time": "2020-10-03T09:07:41.416343Z",
     "start_time": "2020-10-03T09:07:41.412236Z"
    }
   },
   "outputs": [],
   "source": [
    "assert solution.findPairs([1, 3, 1, 5, 4], k=0) == 1"
   ]
  },
  {
   "cell_type": "code",
   "execution_count": 6,
   "metadata": {
    "ExecuteTime": {
     "end_time": "2020-10-03T09:07:41.422054Z",
     "start_time": "2020-10-03T09:07:41.419080Z"
    }
   },
   "outputs": [],
   "source": [
    "assert solution.findPairs([1, 2, 4, 4, 3, 3, 0, 9, 2, 3], k=3) == 2"
   ]
  },
  {
   "cell_type": "code",
   "execution_count": 7,
   "metadata": {
    "ExecuteTime": {
     "end_time": "2020-10-03T09:07:41.426828Z",
     "start_time": "2020-10-03T09:07:41.423846Z"
    }
   },
   "outputs": [],
   "source": [
    "assert solution.findPairs([-1, -2, -3], k=1) == 2"
   ]
  }
 ],
 "metadata": {
  "kernelspec": {
   "display_name": "Python 3",
   "language": "python",
   "name": "python3"
  },
  "language_info": {
   "codemirror_mode": {
    "name": "ipython",
    "version": 3
   },
   "file_extension": ".py",
   "mimetype": "text/x-python",
   "name": "python",
   "nbconvert_exporter": "python",
   "pygments_lexer": "ipython3",
   "version": "3.8.5"
  },
  "varInspector": {
   "cols": {
    "lenName": 16,
    "lenType": 16,
    "lenVar": 40
   },
   "kernels_config": {
    "python": {
     "delete_cmd_postfix": "",
     "delete_cmd_prefix": "del ",
     "library": "var_list.py",
     "varRefreshCmd": "print(var_dic_list())"
    },
    "r": {
     "delete_cmd_postfix": ") ",
     "delete_cmd_prefix": "rm(",
     "library": "var_list.r",
     "varRefreshCmd": "cat(var_dic_list()) "
    }
   },
   "types_to_exclude": [
    "module",
    "function",
    "builtin_function_or_method",
    "instance",
    "_Feature"
   ],
   "window_display": false
  }
 },
 "nbformat": 4,
 "nbformat_minor": 4
}
