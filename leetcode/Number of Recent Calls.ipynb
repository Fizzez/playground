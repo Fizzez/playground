{
 "cells": [
  {
   "cell_type": "markdown",
   "metadata": {},
   "source": [
    "# Problem Description"
   ]
  },
  {
   "cell_type": "markdown",
   "metadata": {
    "ExecuteTime": {
     "end_time": "2020-10-03T09:08:28.349569Z",
     "start_time": "2020-10-03T09:08:28.343467Z"
    }
   },
   "source": [
    "You have a `RecentCounter` class which counts the number of recent requests within a certain time frame.\n",
    "\n",
    "Implement the `RecentCounter` class:\n",
    "\n",
    "`RecentCounter()` Initializes the counter with zero recent requests.\n",
    "`int ping(int t)` Adds a new request at time `t`, where `t` represents some time in milliseconds, and returns the number of requests that has happened in the past `3000` milliseconds (including the new request). Specifically, return the number of requests that have happened in the inclusive range `[t - 3000, t]`.\n",
    "\n",
    "It is guaranteed that every call to `ping` uses a strictly larger value of `t` than the previous call."
   ]
  },
  {
   "cell_type": "markdown",
   "metadata": {},
   "source": [
    "# Solutions and Improvements"
   ]
  },
  {
   "cell_type": "code",
   "execution_count": 1,
   "metadata": {
    "ExecuteTime": {
     "end_time": "2020-10-03T09:13:53.260591Z",
     "start_time": "2020-10-03T09:13:53.255161Z"
    }
   },
   "outputs": [],
   "source": [
    "# Solution 1\n",
    "\n",
    "class RecentCounter:\n",
    "\n",
    "    def __init__(self):\n",
    "        self.time_arr = []\n",
    "\n",
    "    def ping(self, t: int) -> int:\n",
    "        self.time_arr = self.time_arr + [t]\n",
    "        while self.time_arr[0] < t - 3000:\n",
    "            self.time_arr = self.time_arr[1:]\n",
    "        return len(self.time_arr)\n",
    "    "
   ]
  },
  {
   "cell_type": "code",
   "execution_count": 2,
   "metadata": {
    "ExecuteTime": {
     "end_time": "2020-10-03T09:13:53.361222Z",
     "start_time": "2020-10-03T09:13:53.263186Z"
    }
   },
   "outputs": [],
   "source": [
    "# Solution 2\n",
    "\n",
    "import numpy as np\n",
    "\n",
    "\n",
    "class RecentCounter:\n",
    "\n",
    "    def __init__(self):\n",
    "        self.time_arr = np.array([])\n",
    "\n",
    "    def ping(self, t: int) -> int:\n",
    "        self.time_arr = np.concatenate([self.time_arr, [t]])\n",
    "        self.time_arr = self.time_arr[self.time_arr >= t-3000]\n",
    "        return len(self.time_arr)\n"
   ]
  },
  {
   "cell_type": "code",
   "execution_count": 3,
   "metadata": {
    "ExecuteTime": {
     "end_time": "2020-10-03T09:13:53.369222Z",
     "start_time": "2020-10-03T09:13:53.364342Z"
    }
   },
   "outputs": [],
   "source": [
    "# Solution 1\n",
    "\n",
    "import bisect\n",
    "\n",
    "\n",
    "class RecentCounter:\n",
    "\n",
    "    def __init__(self):\n",
    "        self.time_arr = []\n",
    "\n",
    "    def ping(self, t: int) -> int:\n",
    "        self.time_arr = self.time_arr + [t]\n",
    "        self.time_arr = self.time_arr[bisect.bisect_left(self.time_arr, t-3000):]\n",
    "        return len(self.time_arr)\n",
    "    "
   ]
  },
  {
   "cell_type": "code",
   "execution_count": 4,
   "metadata": {
    "ExecuteTime": {
     "end_time": "2020-10-03T09:13:53.378779Z",
     "start_time": "2020-10-03T09:13:53.373064Z"
    }
   },
   "outputs": [],
   "source": [
    "# Solution 1\n",
    "\n",
    "from collections import deque\n",
    "\n",
    "\n",
    "class RecentCounter:\n",
    "\n",
    "    def __init__(self):\n",
    "        self.time_arr = deque()\n",
    "\n",
    "    def ping(self, t: int) -> int:\n",
    "        self.time_arr.append(t)\n",
    "        while self.time_arr[0] < t - 3000:\n",
    "            self.time_arr.popleft()\n",
    "        return len(self.time_arr)\n",
    "    "
   ]
  },
  {
   "cell_type": "markdown",
   "metadata": {},
   "source": [
    "# Test Case"
   ]
  },
  {
   "cell_type": "code",
   "execution_count": 5,
   "metadata": {
    "ExecuteTime": {
     "end_time": "2020-10-03T09:13:53.385569Z",
     "start_time": "2020-10-03T09:13:53.381655Z"
    }
   },
   "outputs": [],
   "source": [
    "obj = RecentCounter()\n",
    "result = []\n",
    "for i in [1, 100, 3001, 3002]:\n",
    "    result.append(obj.ping(i))\n",
    "assert result == [1, 2, 3, 3]"
   ]
  },
  {
   "cell_type": "code",
   "execution_count": null,
   "metadata": {},
   "outputs": [],
   "source": []
  }
 ],
 "metadata": {
  "kernelspec": {
   "display_name": "Python 3",
   "language": "python",
   "name": "python3"
  },
  "language_info": {
   "codemirror_mode": {
    "name": "ipython",
    "version": 3
   },
   "file_extension": ".py",
   "mimetype": "text/x-python",
   "name": "python",
   "nbconvert_exporter": "python",
   "pygments_lexer": "ipython3",
   "version": "3.8.5"
  },
  "varInspector": {
   "cols": {
    "lenName": 16,
    "lenType": 16,
    "lenVar": 40
   },
   "kernels_config": {
    "python": {
     "delete_cmd_postfix": "",
     "delete_cmd_prefix": "del ",
     "library": "var_list.py",
     "varRefreshCmd": "print(var_dic_list())"
    },
    "r": {
     "delete_cmd_postfix": ") ",
     "delete_cmd_prefix": "rm(",
     "library": "var_list.r",
     "varRefreshCmd": "cat(var_dic_list()) "
    }
   },
   "types_to_exclude": [
    "module",
    "function",
    "builtin_function_or_method",
    "instance",
    "_Feature"
   ],
   "window_display": false
  }
 },
 "nbformat": 4,
 "nbformat_minor": 2
}
